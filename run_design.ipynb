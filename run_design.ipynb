{
 "cells": [
  {
   "cell_type": "code",
   "execution_count": 1,
   "id": "762e24ef-c4db-491b-b59a-e49236270fac",
   "metadata": {},
   "outputs": [],
   "source": [
    "design_file = 'CCF desing 10 29.xlsx'"
   ]
  },
  {
   "cell_type": "code",
   "execution_count": null,
   "id": "ab455ffc-3a91-4f10-a671-41be0d6d40ec",
   "metadata": {},
   "outputs": [],
   "source": [
    "from trebuchet import run_design\n",
    "\n",
    "run_design(design_file)"
   ]
  },
  {
   "cell_type": "code",
   "execution_count": null,
   "id": "4a848b93-46bc-4d70-878e-d3fda9e730b4",
   "metadata": {},
   "outputs": [],
   "source": []
  }
 ],
 "metadata": {
  "kernelspec": {
   "display_name": "Python 3 (ipykernel)",
   "language": "python",
   "name": "python3"
  },
  "language_info": {
   "codemirror_mode": {
    "name": "ipython",
    "version": 3
   },
   "file_extension": ".py",
   "mimetype": "text/x-python",
   "name": "python",
   "nbconvert_exporter": "python",
   "pygments_lexer": "ipython3",
   "version": "3.12.0"
  }
 },
 "nbformat": 4,
 "nbformat_minor": 5
}
