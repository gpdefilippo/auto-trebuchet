{
 "cells": [
  {
   "cell_type": "code",
   "execution_count": 13,
   "id": "762e24ef-c4db-491b-b59a-e49236270fac",
   "metadata": {},
   "outputs": [],
   "source": [
    "design_file = 'CCF desing 10 29.xlsx'"
   ]
  },
  {
   "cell_type": "code",
   "execution_count": 14,
   "id": "ab455ffc-3a91-4f10-a671-41be0d6d40ec",
   "metadata": {},
   "outputs": [],
   "source": [
    "import os\n",
    "import pandas as pd\n",
    "\n",
    "from selenium_automation import SelTrebuchet\n",
    "\n",
    "out_path = os.path.join('results', design_file)\n",
    "design_path = os.path.join('designs', design_file)\n",
    "design = pd.read_excel(design_path)\n",
    "\n",
    "distance, height, time = [0] * design.shape[0], [0] * design.shape[0], [0] * design.shape[0]\n",
    "with SelTrebuchet('firefox') as trebuchet:\n",
    "    for idx, row in design.iterrows():\n",
    "        distance[idx], height[idx], time[idx] = trebuchet.simulate(row['rel angle'], row['length short arm'], row['mass of wt'])\n",
    "\n",
    "design['distance'], design['height'], design['time'] = distance, height, time\n",
    "\n",
    "if not os.path.exists(os.path.dirname(directory)):\n",
    "    os.makedirs(directory)\n",
    "design.to_excel(out_path, index=False)"
   ]
  },
  {
   "cell_type": "code",
   "execution_count": null,
   "id": "4a848b93-46bc-4d70-878e-d3fda9e730b4",
   "metadata": {},
   "outputs": [],
   "source": []
  }
 ],
 "metadata": {
  "kernelspec": {
   "display_name": "Python 3 (ipykernel)",
   "language": "python",
   "name": "python3"
  },
  "language_info": {
   "codemirror_mode": {
    "name": "ipython",
    "version": 3
   },
   "file_extension": ".py",
   "mimetype": "text/x-python",
   "name": "python",
   "nbconvert_exporter": "python",
   "pygments_lexer": "ipython3",
   "version": "3.12.0"
  }
 },
 "nbformat": 4,
 "nbformat_minor": 5
}
